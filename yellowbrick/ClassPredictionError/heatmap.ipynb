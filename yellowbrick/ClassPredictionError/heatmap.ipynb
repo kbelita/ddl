{
 "cells": [
  {
   "cell_type": "code",
   "execution_count": 1,
   "metadata": {
    "collapsed": false
   },
   "outputs": [
    {
     "name": "stderr",
     "output_type": "stream",
     "text": [
      "/home/lwgray/anaconda3/envs/yellowbrick/lib/python3.6/site-packages/sklearn/cross_validation.py:41: DeprecationWarning: This module was deprecated in version 0.18 in favor of the model_selection module into which all the refactored classes and functions are moved. Also note that the interface of the new CV iterators are different from that of this module. This module will be removed in 0.20.\n",
      "  \"This module will be removed in 0.20.\", DeprecationWarning)\n"
     ]
    }
   ],
   "source": [
    "import numpy as np\n",
    "from sklearn.utils.multiclass import unique_labels\n",
    "from matplotlib import cm\n",
    "import matplotlib.pyplot as plt\n",
    "from yellowbrick.classifier.base import ClassificationScoreVisualizer"
   ]
  },
  {
   "cell_type": "code",
   "execution_count": 2,
   "metadata": {
    "collapsed": true
   },
   "outputs": [],
   "source": [
    "# yellowbrick.classifier.class_balance_heat_map\n",
    "# Class balance visualizer for showing per-class support.\n",
    "#\n",
    "# Author:   Rebecca Bilbro <rbilbro@districtdatalabs.com>\n",
    "# Author:   Benjamin Bengfort <bbengfort@districtdatalabs.com>\n",
    "# Author:   Neal Humphrey\n",
    "# Author:   Larry Gray\n",
    "# Created:  Sun March 4 20:45:00 2018 -0400\n",
    "#\n",
    "# Copyright (C) 2017 District Data Labs\n",
    "# For license information, see LICENSE.txt\n",
    "#\n",
    "# ID: class_balance_heat_map.py [5388065] lwgray@gmail.com $\n",
    "\n",
    "\"\"\"\n",
    "Class balance heat map visualizer for showing per-class support.\n",
    "\"\"\"\n",
    "\n",
    "'''\n",
    "##########################################################################\n",
    "## Imports\n",
    "##########################################################################\n",
    "\n",
    "from matplotlib import cm\n",
    "import matplotlib.pyplot as plt\n",
    "\n",
    "from .base import ClassificationScoreVisualizer\n",
    "\n",
    "from sklearn.model_selection import train_test_split\n",
    "\n",
    "\n",
    "\n",
    "##########################################################################\n",
    "## Class Balance Chart\n",
    "##########################################################################\n",
    "'''\n",
    "\n",
    "class ClassBalanceHeatMap(ClassificationScoreVisualizer):\n",
    "    \"\"\"\n",
    "    Class balance heat map that shows the support for each class in the\n",
    "    fitted classification model displayed as a stacked bar.  Each bar is \n",
    "    segmented to show the distribution of predicted classes for each\n",
    "    class. It is initialized with a fitted model and generates a \n",
    "    class balance heat map chart on draw.\n",
    "    \n",
    "    Parameters\n",
    "    ----------\n",
    "    ax: axes\n",
    "        the axis to plot the figure on.\n",
    "    model: estimator\n",
    "        Scikit-Learn estimator object. Should be an instance of a classifier,\n",
    "        else ``__init__()`` will raise an exception.\n",
    "    classes: list\n",
    "        A list of class names for the legend. If classes is None and a y value\n",
    "        is passed to fit then the classes are selected from the target vector.\n",
    "    kwargs: dict\n",
    "        Keyword arguments passed to the super class. Here, used\n",
    "        to colorize the bars in the histogram.\n",
    "    Notes\n",
    "    -----\n",
    "    These parameters can be influenced later on in the visualization\n",
    "    process, but can and should be set as early as possible.\n",
    "    \"\"\"\n",
    "\n",
    "    \n",
    "    def __init__(self, model, ax=None, classes=None, **kwargs):\n",
    "        super(ClassBalanceHeatMap, self).__init__(\n",
    "            model, ax=ax, classes=classes, **kwargs\n",
    "        )\n",
    "    \n",
    "    def score(self, X, y=None, **kwargs):\n",
    "        \"\"\"\n",
    "        Generates a 2D array where each row is the count of the\n",
    "        predicted classes and each column is the true class\n",
    "        \n",
    "        Parameters\n",
    "        ----------\n",
    "        X : ndarray or DataFrame of shape n x m\n",
    "            A matrix of n instances with m features\n",
    "        y : ndarray or Series of length n\n",
    "            An array or series of target or class values\n",
    "        \n",
    "        Returns\n",
    "        -------\n",
    "        \n",
    "        ax : the axis with the plotted figure\n",
    "        \"\"\"\n",
    "        \n",
    "        y_pred = self.predict(X)\n",
    "        self.indices = unique_labels(y, y_pred)\n",
    "        self.classes_ = self.classes_ if self.classes_ is not None else self.indices\n",
    "        self.scores = np.array([\n",
    "            [(y_pred[y==label_t] == label_p).sum() \n",
    "            for label_p in self.indices]\n",
    "            for label_t in self.indices \n",
    "            ])\n",
    "        return self.draw() \n",
    "\n",
    "    def draw(self):\n",
    "        \"\"\"\n",
    "        Renders the class balance heap map across the axis.\n",
    "        Returns\n",
    "        -------\n",
    "        ax : the axis with the plotted figure\n",
    "        \"\"\"\n",
    "            \n",
    "        prev = np.zeros(len(self.classes_))\n",
    "        colors = [cm.spectral(x) for x in np.linspace(0, 1, len(self.indices))]\n",
    "        for idx, row in enumerate(self.scores):\n",
    "            self.ax.bar(self.indices, row, label=self.classes_[idx], bottom=prev, color=colors[idx])\n",
    "            prev += row\n",
    "        return self.ax\n",
    "\n",
    "    def finalize(self, **kwargs):\n",
    "        \"\"\"\n",
    "        Finalize executes any subclass-specific axes finalization steps.\n",
    "        The user calls poof and poof calls finalize.\n",
    "        Parameters\n",
    "        ----------\n",
    "        kwargs: generic keyword arguments.\n",
    "        \n",
    "        \"\"\"\n",
    "        # Set the title\n",
    "        self.set_title(\"Class Balance Heat Map for {}\".format(self.name))\n",
    "        \n",
    "        # Set the x ticks with the class names\n",
    "        self.ax.set_xticks(self.indices)\n",
    "        self.ax.set_xticklabels(self.classes_)\n",
    "        \n",
    "        # Set the axes labels\n",
    "        self.ax.set_xlabel(\"actual class\")\n",
    "        self.ax.set_ylabel(\"number of predicted class\")\n",
    "\n",
    "        # Put the legend outside of the graph \n",
    "        plt.legend(bbox_to_anchor=(1.04,0.5), loc=\"center left\")\n",
    "        plt.tight_layout(rect=[0,0,0.85,1])\n",
    "\n",
    "\n",
    "def class_balance_heat_map(model, X, y=None, ax=None, classes=None, **kwargs):\n",
    "    \"\"\"Quick method:\n",
    "    Displays the support for each class in the\n",
    "    fitted classification model displayed as a stacked bar plot.\n",
    "    Each bar is segmented to show the distribution of predicted \n",
    "    classes for each class.\n",
    "    \n",
    "    This helper function is a quick wrapper to utilize the ClassBalanceHeatMap\n",
    "    ScoreVisualizer for one-off analysis.\n",
    "    Parameters\n",
    "    ----------\n",
    "    X  : ndarray or DataFrame of shape n x m\n",
    "        A matrix of n instances with m features.\n",
    "    y  : ndarray or Series of length n\n",
    "        An array or series of target or class values.\n",
    "    ax : matplotlib axes\n",
    "        The axes to plot the figure on.\n",
    "    model : the Scikit-Learn estimator (should be a classifier)\n",
    "    classes : list of strings\n",
    "        The names of the classes in the target\n",
    "    Returns\n",
    "    -------\n",
    "    ax : matplotlib axes\n",
    "        Returns the axes that the class balance plot was drawn on.\n",
    "    \"\"\"\n",
    "    # Instantiate the visualizer\n",
    "    visualizer = ClassBalanceHeatMap(model, ax, classes, **kwargs)\n",
    "\n",
    "    # Create the train and test splits\n",
    "    X_train, X_test, y_train, y_test = train_test_split(X, y, test_size=0.2)\n",
    "\n",
    "    # Fit and transform the visualizer (calls draw)\n",
    "    visualizer.fit(X_train, y_train, **kwargs)\n",
    "    visualizer.score(X_test, y_test)\n",
    "\n",
    "    # Return the axes object on the visualizer\n",
    "    return visualizer.ax\n",
    "        "
   ]
  },
  {
   "cell_type": "code",
   "execution_count": 3,
   "metadata": {
    "collapsed": false
   },
   "outputs": [
    {
     "data": {
      "image/png": "[encoded data removed]",
      "text/plain": [
       "<matplotlib.figure.Figure at 0xaaf0e2ec>"
      ]
     },
     "metadata": {},
     "output_type": "display_data"
    }
   ],
   "source": [
    "\n",
    "from sklearn.datasets import load_digits\n",
    "from sklearn.model_selection import train_test_split as tts\n",
    "from sklearn.ensemble import RandomForestClassifier\n",
    "\n",
    "digits = load_digits()\n",
    "X_train, X_test, y_train, y_test = tts(digits.data, digits.target, test_size=0.33, random_state=42)\n",
    "visualizer = ClassBalanceHeatMap(RandomForestClassifier())\n",
    "visualizer.fit(X_train, y_train)\n",
    "visualizer.score(X_test, y_test)\n",
    "visualizer.poof(outpath='heatmap.png')"
   ]
  },
  {
   "cell_type": "code",
   "execution_count": 1,
   "metadata": {
    "collapsed": true
   },
   "outputs": [],
   "source": [
    "from yellowbrick.classifier import ClassificationReport"
   ]
  },
  {
   "cell_type": "code",
   "execution_count": null,
   "metadata": {
    "collapsed": true
   },
   "outputs": [],
   "source": [
    "visualizer = ClassificationReport(Random)"
   ]
  }
 ],
 "metadata": {
  "kernelspec": {
   "display_name": "Python 3",
   "language": "python",
   "name": "python3"
  },
  "language_info": {
   "codemirror_mode": {
    "name": "ipython",
    "version": 3
   },
   "file_extension": ".py",
   "mimetype": "text/x-python",
   "name": "python",
   "nbconvert_exporter": "python",
   "pygments_lexer": "ipython3",
   "version": "3.6.4"
  }
 },
 "nbformat": 4,
 "nbformat_minor": 2
}
