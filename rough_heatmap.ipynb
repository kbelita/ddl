{
 "cells": [
  {
   "cell_type": "code",
   "execution_count": 3,
   "metadata": {},
   "outputs": [
    {
     "data": {
      "image/png": "[encoded data removed]",
      "text/plain": [
       "<matplotlib.figure.Figure at 0xab3eddac>"
      ]
     },
     "metadata": {},
     "output_type": "display_data"
    }
   ],
   "source": [
    "import numpy as np \n",
    "import matplotlib.pyplot as plt\n",
    "%matplotlib inline\n",
    "\n",
    "from matplotlib import cm \n",
    "from sklearn.utils.multiclass import unique_labels \n",
    "from sklearn.metrics.classification import _check_targets\n",
    "\n",
    "\n",
    "def plot_class_balance_preds(y_true, y_pred, labels=None, ax=None):\n",
    "    # Use Sklearn tools to validate the target \n",
    "    # Note y_true and y_pred should already be label encoded \n",
    "    y_type, y_true, y_pred = _check_targets(y_true, y_pred)\n",
    "    indices = unique_labels(y_true, y_pred)\n",
    "        \n",
    "    # Create a 2D numpy array where each row is the count of \n",
    "    # the predicted classes and each column is the true class \n",
    "    data = np.array([\n",
    "        [(y_pred[y_true==label_t] == label_p).sum() for label_p in indices]\n",
    "        for label_t in indices \n",
    "    ])\n",
    "    \n",
    "    # Ensure that the number of elements in data matches y_pred and y_true \n",
    "    # Not necessary but used as a sanity check\n",
    "    assert data.sum() == len(y_pred) == len(y_true)\n",
    "    \n",
    "    # labels_present is the indices of the classes, labels is the string names \n",
    "    # Another sanity check, this will not prevent missing classes, which is bad\n",
    "    labels = labels if labels is not None else indices\n",
    "    assert len(labels) == len(indices)\n",
    "    \n",
    "    # Create a matplotlib axis \n",
    "    if ax is None:\n",
    "        _, ax = plt.subplots()\n",
    "      \n",
    "    # Create a unique color for each predict class \n",
    "    colors = [cm.spectral(x) for x in np.linspace(0, 1, len(indices))]\n",
    "    \n",
    "    # Track the stack of the bar graph \n",
    "    prev = np.zeros(len(labels))\n",
    "    \n",
    "    # Plot each row \n",
    "    for idx, row in enumerate(data):\n",
    "        ax.bar(indices, row, label=labels[idx], bottom=prev, color=colors[idx])\n",
    "        prev += row \n",
    "    \n",
    "    # Make the graph pretty \n",
    "    ax.set_xticks(indices)\n",
    "    ax.set_xticklabels(labels)\n",
    "    ax.set_xlabel(\"actual class\")\n",
    "    ax.set_ylabel(\"number of predicted class\")\n",
    "\n",
    "    # Put the legend outside of the graph \n",
    "    plt.legend(bbox_to_anchor=(1.04,0.5), loc=\"center left\")\n",
    "    plt.tight_layout(rect=[0,0,0.85,1])\n",
    "    \n",
    "    return ax\n",
    "\n",
    "\n",
    "## Usage \n",
    "from sklearn.datasets import load_digits\n",
    "from sklearn.model_selection import train_test_split as tts\n",
    "from sklearn.ensemble import GradientBoostingClassifier\n",
    "\n",
    "digits = load_digits()\n",
    "X_train, X_test, y_train, y_true = tts(digits.data, digits.target, test_size=0.33, random_state=42)\n",
    "\n",
    "model = GradientBoostingClassifier() \n",
    "model.fit(X_train, y_train)\n",
    "\n",
    "y_pred = model.predict(X_test)\n",
    "g = plot_class_balance_preds(y_true, y_pred, labels=digits.target_names)\n",
    "\n",
    "plt.show()"
   ]
  },
  {
   "cell_type": "code",
   "execution_count": null,
   "metadata": {},
   "outputs": [],
   "source": []
  },
  {
   "cell_type": "code",
   "execution_count": null,
   "metadata": {},
   "outputs": [],
   "source": []
  },
  {
   "cell_type": "code",
   "execution_count": null,
   "metadata": {},
   "outputs": [],
   "source": []
  }
 ],
 "metadata": {
  "kernelspec": {
   "display_name": "Python 3",
   "language": "python",
   "name": "python3"
  },
  "language_info": {
   "codemirror_mode": {
    "name": "ipython",
    "version": 3
   },
   "file_extension": ".py",
   "mimetype": "text/x-python",
   "name": "python",
   "nbconvert_exporter": "python",
   "pygments_lexer": "ipython3",
   "version": "3.6.4"
  }
 },
 "nbformat": 4,
 "nbformat_minor": 2
}
