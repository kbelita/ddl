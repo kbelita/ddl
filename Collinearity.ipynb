{
 "cells": [
  {
   "cell_type": "markdown",
   "metadata": {},
   "source": [
    "### collinearity\n",
    "\n",
    "*  Topic: Introduction to Collinearity\n",
    "*  Data:  DataScience subreddit titles from the past 3 years\n",
    "*  Original Objective:  Predict how many votes a post would receive based on its title\n",
    "*  Features:  See below\n",
    "\n",
    "  1. WordCount - The number of words in the title\n",
    "  2. CharCount - the number of characters in the title\n",
    "  3. Vowels - The number of vowels in the title\n",
    "  4. Consonants - The number of consonants in the title\n",
    "  5. gtavg - The number of up-votes greater than the average number of up-votes per post\n",
    "  6. polarity - The positive or negative sentiment of the title\n",
    "  7. subjectivity - Measure of objectivity and subjectivity of each title\n",
    "  8. Noun Phrases - The number of nouns in each title\n",
    "  9. Syllable - The number of syllables in each title\n",
    "  10. Kincaid - A score that meaures the grade-level of each title\n",
    "  11. Flesch - Measures the readability of each title\n",
    "\n",
    "![](images/correlation.png)\n",
    "\n"
   ]
  }
 ],
 "metadata": {
  "kernelspec": {
   "display_name": "Python 3",
   "language": "python",
   "name": "python3"
  },
  "language_info": {
   "codemirror_mode": {
    "name": "ipython",
    "version": 3
   },
   "file_extension": ".py",
   "mimetype": "text/x-python",
   "name": "python",
   "nbconvert_exporter": "python",
   "pygments_lexer": "ipython3",
   "version": "3.6.2"
  }
 },
 "nbformat": 4,
 "nbformat_minor": 2
}
