{
 "cells": [
  {
   "cell_type": "markdown",
   "metadata": {},
   "source": [
    "### Russian Trolls: Proposal #2\n",
    "\n",
    "This dataset released by NBC on Feb. 14 contains 200K tweets from Russian Trolls:\n",
    "\n",
    "#### Topic:\n",
    "Interesting Dataset; Beginner Tutorial\n",
    "\n",
    "#### Proposal:  \n",
    "1.  Create a beginner tutorial on topic modeling  \n",
    "2.  Tutorial on predicting number of retweets(Caveats: Very hard to predict)\n",
    "\n",
    "#### Yellowbrick:  \n",
    "1.  Proposal #1 :Use FreqDist to show most frequent words; Use t-SNE to visualize clustering  \n",
    "2.  Proposal #2: Use Regression visualizers\n",
    "\n",
    "![](images/twitter_russian_troll.jpg)"
   ]
  },
  {
   "cell_type": "code",
   "execution_count": 41,
   "metadata": {
    "collapsed": true
   },
   "outputs": [],
   "source": [
    "import pandas as pd"
   ]
  },
  {
   "cell_type": "code",
   "execution_count": 42,
   "metadata": {
    "collapsed": true
   },
   "outputs": [],
   "source": [
    "df = pd.read_csv('tweets.csv.xz', dtype={'user_id': object, \n",
    "                                         'created_at': object,\n",
    "                                         'tweet_id': object})"
   ]
  },
  {
   "cell_type": "code",
   "execution_count": null,
   "metadata": {
    "collapsed": true
   },
   "outputs": [],
   "source": [
    "df.shape"
   ]
  },
  {
   "cell_type": "code",
   "execution_count": 44,
   "metadata": {},
   "outputs": [
    {
     "data": {
      "text/html": [
       "<div>\n",
       "<style scoped>\n",
       "    .dataframe tbody tr th:only-of-type {\n",
       "        vertical-align: middle;\n",
       "    }\n",
       "\n",
       "    .dataframe tbody tr th {\n",
       "        vertical-align: top;\n",
       "    }\n",
       "\n",
       "    .dataframe thead th {\n",
       "        text-align: right;\n",
       "    }\n",
       "</style>\n",
       "<table border=\"1\" class=\"dataframe\">\n",
       "  <thead>\n",
       "    <tr style=\"text-align: right;\">\n",
       "      <th></th>\n",
       "      <th>user_key</th>\n",
       "      <th>retweet_count</th>\n",
       "      <th>text</th>\n",
       "    </tr>\n",
       "  </thead>\n",
       "  <tbody>\n",
       "    <tr>\n",
       "      <th>0</th>\n",
       "      <td>ryanmaxwell_1</td>\n",
       "      <td>NaN</td>\n",
       "      <td>#IslamKills Are you trying to say that there w...</td>\n",
       "    </tr>\n",
       "    <tr>\n",
       "      <th>1</th>\n",
       "      <td>detroitdailynew</td>\n",
       "      <td>0.0</td>\n",
       "      <td>Clinton: Trump should’ve apologized more, atta...</td>\n",
       "    </tr>\n",
       "    <tr>\n",
       "      <th>2</th>\n",
       "      <td>cookncooks</td>\n",
       "      <td>NaN</td>\n",
       "      <td>RT @ltapoll: Who was/is the best president of ...</td>\n",
       "    </tr>\n",
       "    <tr>\n",
       "      <th>3</th>\n",
       "      <td>queenofthewo</td>\n",
       "      <td>NaN</td>\n",
       "      <td>RT @jww372: I don't have to guess your religio...</td>\n",
       "    </tr>\n",
       "    <tr>\n",
       "      <th>4</th>\n",
       "      <td>mrclydepratt</td>\n",
       "      <td>NaN</td>\n",
       "      <td>RT @Shareblue: Pence and his lawyers decided w...</td>\n",
       "    </tr>\n",
       "  </tbody>\n",
       "</table>\n",
       "</div>"
      ],
      "text/plain": [
       "          user_key  retweet_count  \\\n",
       "0    ryanmaxwell_1            NaN   \n",
       "1  detroitdailynew            0.0   \n",
       "2       cookncooks            NaN   \n",
       "3     queenofthewo            NaN   \n",
       "4     mrclydepratt            NaN   \n",
       "\n",
       "                                                text  \n",
       "0  #IslamKills Are you trying to say that there w...  \n",
       "1  Clinton: Trump should’ve apologized more, atta...  \n",
       "2  RT @ltapoll: Who was/is the best president of ...  \n",
       "3  RT @jww372: I don't have to guess your religio...  \n",
       "4  RT @Shareblue: Pence and his lawyers decided w...  "
      ]
     },
     "execution_count": 44,
     "metadata": {},
     "output_type": "execute_result"
    }
   ],
   "source": [
    "df[['user_key', 'retweet_count', 'text']].head()"
   ]
  },
  {
   "cell_type": "code",
   "execution_count": 45,
   "metadata": {},
   "outputs": [],
   "source": [
    "data = df[~df.text.isna()]"
   ]
  },
  {
   "cell_type": "code",
   "execution_count": null,
   "metadata": {},
   "outputs": [],
   "source": [
    "from sklearn.decomposition import NMF, LatentDirichletAllocation, TruncatedSVD\n",
    "from sklearn.feature_extraction.text import CountVectorizer\n",
    "import numpy as np\n",
    "\n",
    "NUM_TOPICS = 10\n",
    " \n",
    "vectorizer = CountVectorizer(min_df=5, max_df=0.9, \n",
    "                             stop_words='english', lowercase=True, \n",
    "                             token_pattern='[a-zA-Z\\-][a-zA-Z\\-]{2,}')\n",
    "data_vectorized = vectorizer.fit_transform(data.text)\n",
    " \n",
    "# Build a Latent Dirichlet Allocation Model\n",
    "lda_model = LatentDirichletAllocation(n_topics=NUM_TOPICS, max_iter=10, learning_method='online')\n",
    "lda_Z = lda_model.fit_transform(data_vectorized)"
   ]
  },
  {
   "cell_type": "code",
   "execution_count": null,
   "metadata": {},
   "outputs": [],
   "source": [
    "print(lda_Z[0])"
   ]
  },
  {
   "cell_type": "code",
   "execution_count": 9,
   "metadata": {},
   "outputs": [
    {
     "name": "stdout",
     "output_type": "stream",
     "text": [
      "Loading dataset...\n",
      "done in 0.017s.\n",
      "Extracting tf features for LDA...\n",
      "done in 0.130s.\n",
      "\n",
      "Fitting LDA models with tf features, n_samples=2000 and n_features=1000...\n",
      "done in 3.126s.\n",
      "\n",
      "Topics in LDA model:\n",
      "Topic #0: rt http post life news live new conservatexian ho bad making la 10 perfect tonight makes john person dear hot\n",
      "Topic #1: rt just hate stop fake christmas shot friends todolistbeforechristmas ll christmasaftermath false nation brexit ihavearighttoknow rules cause hashtag topnews things\n",
      "Topic #2: rt https trump clinton hillary obama amp people donald don politics tcot just like realdonaldtrump said know america right pjnet\n",
      "Topic #3: kids future followthemoney awesome single sure sleep ll oscarhasnocolor rid hours 20 favorite dangerous arizona watch spread fly press jenner\n",
      "Topic #4: stein risk murder bush recount book prisonplanet years jill 2015 jerusalem prison field takes incident elected gets care longer officer\n",
      "Topic #5: rt https pence didn people plan help breaking lost early mike join lt betteralternativetodebates game remember speak 000 photo work\n",
      "Topic #6: die merkelmussbleiben democrats merkel der https father islamkills ist gonna und für brussels deutschland sie walk charges happybirthdayharrytruman es stopislam\n",
      "Topic #7: saying secondhandgifts comey voter eating harry face better fbi president prosecutor ex running thingsmoretrustedthanhillary investigate chris check resign list imagine\n",
      "Topic #8: midnight great yes hello attacks world realdonaldtrump build wait week weekend dog dogsongs paying europe wall trump2016 trumpbecause little street\n",
      "Topic #9: bring army republican cops vs sex blacklivesmatter choice trumpsfavoriteheadline liberal master terrorists gave ready cover changed serve sessions fight hell\n",
      "\n"
     ]
    }
   ],
   "source": [
    "from __future__ import print_function\n",
    "from time import time\n",
    "\n",
    "from sklearn.feature_extraction.text import TfidfVectorizer, CountVectorizer\n",
    "from sklearn.decomposition import NMF, LatentDirichletAllocation\n",
    "from sklearn.datasets import fetch_20newsgroups\n",
    "\n",
    "n_samples = 2000\n",
    "n_features = 1000\n",
    "n_components = 10\n",
    "n_top_words = 20\n",
    "\n",
    "\n",
    "def print_top_words(model, feature_names, n_top_words):\n",
    "    for topic_idx, topic in enumerate(model.components_):\n",
    "        message = \"Topic #%d: \" % topic_idx\n",
    "        message += \" \".join([feature_names[i]\n",
    "                             for i in topic.argsort()[:-n_top_words - 1:-1]])\n",
    "        print(message)\n",
    "    print()\n",
    "\n",
    "\n",
    "print(\"Loading dataset...\")\n",
    "t0 = time()\n",
    "data = df[['user_key', 'retweet_count', 'text']]\n",
    "data_samples = data.text[:n_samples]\n",
    "print(\"done in %0.3fs.\" % (time() - t0))\n",
    "\n",
    "# Use tf (raw term count) features for LDA.\n",
    "print(\"Extracting tf features for LDA...\")\n",
    "tf_vectorizer = CountVectorizer(max_df=0.95, min_df=2,\n",
    "                                max_features=n_features,\n",
    "                                stop_words='english')\n",
    "t0 = time()\n",
    "tf = tf_vectorizer.fit_transform(data_samples)\n",
    "print(\"done in %0.3fs.\" % (time() - t0))\n",
    "print()\n",
    "\n",
    "print(\"Fitting LDA models with tf features, \"\n",
    "      \"n_samples=%d and n_features=%d...\"\n",
    "      % (n_samples, n_features))\n",
    "lda = LatentDirichletAllocation(n_components=n_components, max_iter=5,\n",
    "                                learning_method='online',\n",
    "                                learning_offset=50.,\n",
    "                                random_state=0)\n",
    "t0 = time()\n",
    "lda.fit(tf)\n",
    "print(\"done in %0.3fs.\" % (time() - t0))\n",
    "\n",
    "print(\"\\nTopics in LDA model:\")\n",
    "tf_feature_names = tf_vectorizer.get_feature_names()\n",
    "print_top_words(lda, tf_feature_names, n_top_words)"
   ]
  }
 ],
 "metadata": {
  "kernelspec": {
   "display_name": "Python 3",
   "language": "python",
   "name": "python3"
  },
  "language_info": {
   "codemirror_mode": {
    "name": "ipython",
    "version": 3
   },
   "file_extension": ".py",
   "mimetype": "text/x-python",
   "name": "python",
   "nbconvert_exporter": "python",
   "pygments_lexer": "ipython3",
   "version": "3.6.4"
  }
 },
 "nbformat": 4,
 "nbformat_minor": 2
}
